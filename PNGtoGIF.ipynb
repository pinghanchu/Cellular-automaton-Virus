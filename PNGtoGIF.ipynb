{
 "cells": [
  {
   "cell_type": "code",
   "execution_count": null,
   "metadata": {},
   "outputs": [],
   "source": [
    "import imageio\n",
    "import os\n",
    "initial_virus = [[1,1,1],[20,20,10],[20,20,100],[200,500,10],[200,500,100]]\n",
    "isstochastic=[[\"stochastic\",1,1000],[\"homogenous\",0,280]]\n",
    "TotalRun = 1\n",
    "IsImage=1\n",
    "ifn_prods = [0,1,3,6]\n",
    "\n",
    "virus_prods=2\n",
    "virus_diff=1\n",
    "ifn_diff=5\n",
    "ifn_prob=0.1\n",
    "virus_reduction_factor=0.5\n",
    "irun=0\n",
    "\n",
    "for name,Is,totalstep in isstochastic:\n",
    "        for s1,s2,vnumb in initial_virus:\n",
    "            for iifn_prods in ifn_prods:\n",
    "                filename = \"virusprods{}_virusdiff{}_ifnprods{}_ifndiff{}_ifnprob{}_virusreduct{}_isstochastic{}_initialvirus{}_{}_{}_run{}\".format(virus_prods,virus_diff,iifn_prods,ifn_diff,ifn_prob,virus_reduction_factor,Is,s1,s2,vnumb,irun)\n",
    "                with imageio.get_writer('./movie_py/infection_{}.gif'.format(filename), mode='i') as writer:\n",
    "                    for istep in range(0,totalstep):\n",
    "                            image = imageio.imread('./figure_py/infection_{}_{}.png'.format(filename,istep))\n",
    "                            writer.append_data(image)\n",
    "                            #os.remove('./figure_py/infection_{}_{}.png'.format(filename,istep))     \n",
    "                    with imageio.get_writer('./movie_py/virus_{}.gif'.format(filename), mode='i') as writer:\n",
    "                        for istep in range(0,totalstep):\n",
    "                            image = imageio.imread('./figure_py/virus_{}_{}.png'.format(filename,istep))\n",
    "                            writer.append_data(image)\n",
    "                            #os.remove('./figure_py/virus_{}_{}.png'.format(filename,istep))\n",
    "                    with imageio.get_writer('./movie_py/ifn_{}.gif'.format(filename), mode='i') as writer:\n",
    "                        for istep in range(0,totalstep):\n",
    "                            image = imageio.imread('./figure_py/ifn_{}_{}.png'.format(filename,istep))\n",
    "                            writer.append_data(image)\n",
    "                            #os.remove('./figure_py/ifn_{}_{}.png'.format(filename,istep))\n",
    "                "
   ]
  },
  {
   "cell_type": "code",
   "execution_count": null,
   "metadata": {},
   "outputs": [],
   "source": []
  }
 ],
 "metadata": {
  "kernelspec": {
   "display_name": "Python 3",
   "language": "python",
   "name": "python3"
  },
  "language_info": {
   "codemirror_mode": {
    "name": "ipython",
    "version": 3
   },
   "file_extension": ".py",
   "mimetype": "text/x-python",
   "name": "python",
   "nbconvert_exporter": "python",
   "pygments_lexer": "ipython3",
   "version": "3.7.0"
  }
 },
 "nbformat": 4,
 "nbformat_minor": 4
}
