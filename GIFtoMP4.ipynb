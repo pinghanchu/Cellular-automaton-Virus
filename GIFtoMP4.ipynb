{
 "cells": [
  {
   "cell_type": "code",
   "execution_count": 3,
   "metadata": {},
   "outputs": [
    {
     "name": "stdout",
     "output_type": "stream",
     "text": [
      "./movie/movie_negbinomial_virusprod2_virusdiff1_ifnprod0_ifnprob10_virusreduction50_virusdim1_virusnumb1_ifninjectprob0_injectday0_dim1200_dim2500_step2000_sim1.gif\n"
     ]
    },
    {
     "name": "stderr",
     "output_type": "stream",
     "text": [
      "t:   0%|          | 3/2000 [00:00<01:22, 24.10it/s, now=None]"
     ]
    },
    {
     "name": "stdout",
     "output_type": "stream",
     "text": [
      "Moviepy - Building video ./movie/movie_negbinomial_virusprod2_virusdiff1_ifnprod0_ifnprob10_virusreduction50_virusdim1_virusnumb1_ifninjectprob0_injectday0_dim1200_dim2500_step2000_sim1.mp4.\n",
      "Moviepy - Writing video ./movie/movie_negbinomial_virusprod2_virusdiff1_ifnprod0_ifnprob10_virusreduction50_virusdim1_virusnumb1_ifninjectprob0_injectday0_dim1200_dim2500_step2000_sim1.mp4\n",
      "\n"
     ]
    },
    {
     "name": "stderr",
     "output_type": "stream",
     "text": [
      "                                                                 \r"
     ]
    },
    {
     "name": "stdout",
     "output_type": "stream",
     "text": [
      "Moviepy - Done !\n",
      "Moviepy - video ready ./movie/movie_negbinomial_virusprod2_virusdiff1_ifnprod0_ifnprob10_virusreduction50_virusdim1_virusnumb1_ifninjectprob0_injectday0_dim1200_dim2500_step2000_sim1.mp4\n"
     ]
    },
    {
     "name": "stderr",
     "output_type": "stream",
     "text": [
      "t:   0%|          | 3/2000 [00:00<01:39, 20.15it/s, now=None]"
     ]
    },
    {
     "name": "stdout",
     "output_type": "stream",
     "text": [
      "Moviepy - Building video ./movie/movie_exposed_negbinomial_virusprod2_virusdiff1_ifnprod0_ifnprob10_virusreduction50_virusdim1_virusnumb1_ifninjectprob0_injectday0_dim1200_dim2500_step2000_sim1.mp4.\n",
      "Moviepy - Writing video ./movie/movie_exposed_negbinomial_virusprod2_virusdiff1_ifnprod0_ifnprob10_virusreduction50_virusdim1_virusnumb1_ifninjectprob0_injectday0_dim1200_dim2500_step2000_sim1.mp4\n",
      "\n"
     ]
    },
    {
     "name": "stderr",
     "output_type": "stream",
     "text": [
      "                                                                 \r"
     ]
    },
    {
     "name": "stdout",
     "output_type": "stream",
     "text": [
      "Moviepy - Done !\n",
      "Moviepy - video ready ./movie/movie_exposed_negbinomial_virusprod2_virusdiff1_ifnprod0_ifnprob10_virusreduction50_virusdim1_virusnumb1_ifninjectprob0_injectday0_dim1200_dim2500_step2000_sim1.mp4\n"
     ]
    },
    {
     "name": "stderr",
     "output_type": "stream",
     "text": [
      "t:   0%|          | 10/2000 [00:00<00:20, 96.26it/s, now=None]"
     ]
    },
    {
     "name": "stdout",
     "output_type": "stream",
     "text": [
      "Moviepy - Building video ./movie/movie_ifncell_negbinomial_virusprod2_virusdiff1_ifnprod0_ifnprob10_virusreduction50_virusdim1_virusnumb1_ifninjectprob0_injectday0_dim1200_dim2500_step2000_sim1.mp4.\n",
      "Moviepy - Writing video ./movie/movie_ifncell_negbinomial_virusprod2_virusdiff1_ifnprod0_ifnprob10_virusreduction50_virusdim1_virusnumb1_ifninjectprob0_injectday0_dim1200_dim2500_step2000_sim1.mp4\n",
      "\n"
     ]
    },
    {
     "name": "stderr",
     "output_type": "stream",
     "text": [
      "                                                                 \r"
     ]
    },
    {
     "name": "stdout",
     "output_type": "stream",
     "text": [
      "Moviepy - Done !\n",
      "Moviepy - video ready ./movie/movie_ifncell_negbinomial_virusprod2_virusdiff1_ifnprod0_ifnprob10_virusreduction50_virusdim1_virusnumb1_ifninjectprob0_injectday0_dim1200_dim2500_step2000_sim1.mp4\n"
     ]
    },
    {
     "name": "stderr",
     "output_type": "stream",
     "text": [
      "t:   0%|          | 3/2000 [00:00<01:06, 29.98it/s, now=None]"
     ]
    },
    {
     "name": "stdout",
     "output_type": "stream",
     "text": [
      "Moviepy - Building video ./movie/movie_viruscell_negbinomial_virusprod2_virusdiff1_ifnprod0_ifnprob10_virusreduction50_virusdim1_virusnumb1_ifninjectprob0_injectday0_dim1200_dim2500_step2000_sim1.mp4.\n",
      "Moviepy - Writing video ./movie/movie_viruscell_negbinomial_virusprod2_virusdiff1_ifnprod0_ifnprob10_virusreduction50_virusdim1_virusnumb1_ifninjectprob0_injectday0_dim1200_dim2500_step2000_sim1.mp4\n",
      "\n"
     ]
    },
    {
     "name": "stderr",
     "output_type": "stream",
     "text": [
      "                                                                 \r"
     ]
    },
    {
     "name": "stdout",
     "output_type": "stream",
     "text": [
      "Moviepy - Done !\n",
      "Moviepy - video ready ./movie/movie_viruscell_negbinomial_virusprod2_virusdiff1_ifnprod0_ifnprob10_virusreduction50_virusdim1_virusnumb1_ifninjectprob0_injectday0_dim1200_dim2500_step2000_sim1.mp4\n",
      "./movie/movie_negbinomial_virusprod2_virusdiff1_ifnprod1_ifnprob10_virusreduction50_virusdim1_virusnumb1_ifninjectprob0_injectday0_dim1200_dim2500_step2000_sim1.gif\n"
     ]
    },
    {
     "name": "stderr",
     "output_type": "stream",
     "text": [
      "t:   1%|          | 24/2000 [00:00<00:08, 237.37it/s, now=None]"
     ]
    },
    {
     "name": "stdout",
     "output_type": "stream",
     "text": [
      "Moviepy - Building video ./movie/movie_negbinomial_virusprod2_virusdiff1_ifnprod1_ifnprob10_virusreduction50_virusdim1_virusnumb1_ifninjectprob0_injectday0_dim1200_dim2500_step2000_sim1.mp4.\n",
      "Moviepy - Writing video ./movie/movie_negbinomial_virusprod2_virusdiff1_ifnprod1_ifnprob10_virusreduction50_virusdim1_virusnumb1_ifninjectprob0_injectday0_dim1200_dim2500_step2000_sim1.mp4\n",
      "\n"
     ]
    },
    {
     "name": "stderr",
     "output_type": "stream",
     "text": [
      "                                                                 \r"
     ]
    },
    {
     "name": "stdout",
     "output_type": "stream",
     "text": [
      "Moviepy - Done !\n",
      "Moviepy - video ready ./movie/movie_negbinomial_virusprod2_virusdiff1_ifnprod1_ifnprob10_virusreduction50_virusdim1_virusnumb1_ifninjectprob0_injectday0_dim1200_dim2500_step2000_sim1.mp4\n"
     ]
    },
    {
     "name": "stderr",
     "output_type": "stream",
     "text": [
      "t:   0%|          | 3/2000 [00:00<01:11, 27.77it/s, now=None]"
     ]
    },
    {
     "name": "stdout",
     "output_type": "stream",
     "text": [
      "Moviepy - Building video ./movie/movie_exposed_negbinomial_virusprod2_virusdiff1_ifnprod1_ifnprob10_virusreduction50_virusdim1_virusnumb1_ifninjectprob0_injectday0_dim1200_dim2500_step2000_sim1.mp4.\n",
      "Moviepy - Writing video ./movie/movie_exposed_negbinomial_virusprod2_virusdiff1_ifnprod1_ifnprob10_virusreduction50_virusdim1_virusnumb1_ifninjectprob0_injectday0_dim1200_dim2500_step2000_sim1.mp4\n",
      "\n"
     ]
    },
    {
     "name": "stderr",
     "output_type": "stream",
     "text": [
      "                                                                 \r"
     ]
    },
    {
     "name": "stdout",
     "output_type": "stream",
     "text": [
      "Moviepy - Done !\n",
      "Moviepy - video ready ./movie/movie_exposed_negbinomial_virusprod2_virusdiff1_ifnprod1_ifnprob10_virusreduction50_virusdim1_virusnumb1_ifninjectprob0_injectday0_dim1200_dim2500_step2000_sim1.mp4\n"
     ]
    },
    {
     "name": "stderr",
     "output_type": "stream",
     "text": [
      "t:   1%|          | 11/2000 [00:00<00:18, 108.40it/s, now=None]"
     ]
    },
    {
     "name": "stdout",
     "output_type": "stream",
     "text": [
      "Moviepy - Building video ./movie/movie_ifncell_negbinomial_virusprod2_virusdiff1_ifnprod1_ifnprob10_virusreduction50_virusdim1_virusnumb1_ifninjectprob0_injectday0_dim1200_dim2500_step2000_sim1.mp4.\n",
      "Moviepy - Writing video ./movie/movie_ifncell_negbinomial_virusprod2_virusdiff1_ifnprod1_ifnprob10_virusreduction50_virusdim1_virusnumb1_ifninjectprob0_injectday0_dim1200_dim2500_step2000_sim1.mp4\n",
      "\n"
     ]
    },
    {
     "name": "stderr",
     "output_type": "stream",
     "text": [
      "                                                                 \r"
     ]
    },
    {
     "name": "stdout",
     "output_type": "stream",
     "text": [
      "Moviepy - Done !\n",
      "Moviepy - video ready ./movie/movie_ifncell_negbinomial_virusprod2_virusdiff1_ifnprod1_ifnprob10_virusreduction50_virusdim1_virusnumb1_ifninjectprob0_injectday0_dim1200_dim2500_step2000_sim1.mp4\n"
     ]
    },
    {
     "name": "stderr",
     "output_type": "stream",
     "text": [
      "t:   2%|▏         | 31/2000 [00:00<00:06, 307.20it/s, now=None]"
     ]
    },
    {
     "name": "stdout",
     "output_type": "stream",
     "text": [
      "Moviepy - Building video ./movie/movie_viruscell_negbinomial_virusprod2_virusdiff1_ifnprod1_ifnprob10_virusreduction50_virusdim1_virusnumb1_ifninjectprob0_injectday0_dim1200_dim2500_step2000_sim1.mp4.\n",
      "Moviepy - Writing video ./movie/movie_viruscell_negbinomial_virusprod2_virusdiff1_ifnprod1_ifnprob10_virusreduction50_virusdim1_virusnumb1_ifninjectprob0_injectday0_dim1200_dim2500_step2000_sim1.mp4\n",
      "\n"
     ]
    },
    {
     "name": "stderr",
     "output_type": "stream",
     "text": [
      "                                                                 \r"
     ]
    },
    {
     "name": "stdout",
     "output_type": "stream",
     "text": [
      "Moviepy - Done !\n",
      "Moviepy - video ready ./movie/movie_viruscell_negbinomial_virusprod2_virusdiff1_ifnprod1_ifnprob10_virusreduction50_virusdim1_virusnumb1_ifninjectprob0_injectday0_dim1200_dim2500_step2000_sim1.mp4\n",
      "./movie/movie_negbinomial_virusprod2_virusdiff1_ifnprod3_ifnprob10_virusreduction50_virusdim1_virusnumb1_ifninjectprob0_injectday0_dim1200_dim2500_step2000_sim1.gif\n"
     ]
    },
    {
     "name": "stderr",
     "output_type": "stream",
     "text": [
      "t:   1%|          | 22/2000 [00:00<00:09, 215.63it/s, now=None]"
     ]
    },
    {
     "name": "stdout",
     "output_type": "stream",
     "text": [
      "Moviepy - Building video ./movie/movie_negbinomial_virusprod2_virusdiff1_ifnprod3_ifnprob10_virusreduction50_virusdim1_virusnumb1_ifninjectprob0_injectday0_dim1200_dim2500_step2000_sim1.mp4.\n",
      "Moviepy - Writing video ./movie/movie_negbinomial_virusprod2_virusdiff1_ifnprod3_ifnprob10_virusreduction50_virusdim1_virusnumb1_ifninjectprob0_injectday0_dim1200_dim2500_step2000_sim1.mp4\n",
      "\n"
     ]
    },
    {
     "name": "stderr",
     "output_type": "stream",
     "text": [
      "                                                                 \r"
     ]
    },
    {
     "name": "stdout",
     "output_type": "stream",
     "text": [
      "Moviepy - Done !\n",
      "Moviepy - video ready ./movie/movie_negbinomial_virusprod2_virusdiff1_ifnprod3_ifnprob10_virusreduction50_virusdim1_virusnumb1_ifninjectprob0_injectday0_dim1200_dim2500_step2000_sim1.mp4\n"
     ]
    },
    {
     "name": "stderr",
     "output_type": "stream",
     "text": [
      "t:   1%|          | 18/2000 [00:00<00:11, 174.72it/s, now=None]"
     ]
    },
    {
     "name": "stdout",
     "output_type": "stream",
     "text": [
      "Moviepy - Building video ./movie/movie_exposed_negbinomial_virusprod2_virusdiff1_ifnprod3_ifnprob10_virusreduction50_virusdim1_virusnumb1_ifninjectprob0_injectday0_dim1200_dim2500_step2000_sim1.mp4.\n",
      "Moviepy - Writing video ./movie/movie_exposed_negbinomial_virusprod2_virusdiff1_ifnprod3_ifnprob10_virusreduction50_virusdim1_virusnumb1_ifninjectprob0_injectday0_dim1200_dim2500_step2000_sim1.mp4\n",
      "\n"
     ]
    },
    {
     "name": "stderr",
     "output_type": "stream",
     "text": [
      "                                                                 \r"
     ]
    },
    {
     "name": "stdout",
     "output_type": "stream",
     "text": [
      "Moviepy - Done !\n",
      "Moviepy - video ready ./movie/movie_exposed_negbinomial_virusprod2_virusdiff1_ifnprod3_ifnprob10_virusreduction50_virusdim1_virusnumb1_ifninjectprob0_injectday0_dim1200_dim2500_step2000_sim1.mp4\n"
     ]
    },
    {
     "name": "stderr",
     "output_type": "stream",
     "text": [
      "t:   1%|▏         | 26/2000 [00:00<00:07, 259.66it/s, now=None]"
     ]
    },
    {
     "name": "stdout",
     "output_type": "stream",
     "text": [
      "Moviepy - Building video ./movie/movie_ifncell_negbinomial_virusprod2_virusdiff1_ifnprod3_ifnprob10_virusreduction50_virusdim1_virusnumb1_ifninjectprob0_injectday0_dim1200_dim2500_step2000_sim1.mp4.\n",
      "Moviepy - Writing video ./movie/movie_ifncell_negbinomial_virusprod2_virusdiff1_ifnprod3_ifnprob10_virusreduction50_virusdim1_virusnumb1_ifninjectprob0_injectday0_dim1200_dim2500_step2000_sim1.mp4\n",
      "\n"
     ]
    },
    {
     "name": "stderr",
     "output_type": "stream",
     "text": [
      "                                                                 \r"
     ]
    },
    {
     "name": "stdout",
     "output_type": "stream",
     "text": [
      "Moviepy - Done !\n",
      "Moviepy - video ready ./movie/movie_ifncell_negbinomial_virusprod2_virusdiff1_ifnprod3_ifnprob10_virusreduction50_virusdim1_virusnumb1_ifninjectprob0_injectday0_dim1200_dim2500_step2000_sim1.mp4\n"
     ]
    },
    {
     "name": "stderr",
     "output_type": "stream",
     "text": [
      "t:   2%|▏         | 30/2000 [00:00<00:06, 297.24it/s, now=None]"
     ]
    },
    {
     "name": "stdout",
     "output_type": "stream",
     "text": [
      "Moviepy - Building video ./movie/movie_viruscell_negbinomial_virusprod2_virusdiff1_ifnprod3_ifnprob10_virusreduction50_virusdim1_virusnumb1_ifninjectprob0_injectday0_dim1200_dim2500_step2000_sim1.mp4.\n",
      "Moviepy - Writing video ./movie/movie_viruscell_negbinomial_virusprod2_virusdiff1_ifnprod3_ifnprob10_virusreduction50_virusdim1_virusnumb1_ifninjectprob0_injectday0_dim1200_dim2500_step2000_sim1.mp4\n",
      "\n"
     ]
    },
    {
     "name": "stderr",
     "output_type": "stream",
     "text": [
      "                                                                 \r"
     ]
    },
    {
     "name": "stdout",
     "output_type": "stream",
     "text": [
      "Moviepy - Done !\n",
      "Moviepy - video ready ./movie/movie_viruscell_negbinomial_virusprod2_virusdiff1_ifnprod3_ifnprob10_virusreduction50_virusdim1_virusnumb1_ifninjectprob0_injectday0_dim1200_dim2500_step2000_sim1.mp4\n",
      "./movie/movie_negbinomial_virusprod2_virusdiff1_ifnprod6_ifnprob10_virusreduction50_virusdim1_virusnumb1_ifninjectprob0_injectday0_dim1200_dim2500_step2000_sim1.gif\n"
     ]
    },
    {
     "name": "stderr",
     "output_type": "stream",
     "text": [
      "t:   1%|          | 15/2000 [00:00<00:13, 149.35it/s, now=None]"
     ]
    },
    {
     "name": "stdout",
     "output_type": "stream",
     "text": [
      "Moviepy - Building video ./movie/movie_negbinomial_virusprod2_virusdiff1_ifnprod6_ifnprob10_virusreduction50_virusdim1_virusnumb1_ifninjectprob0_injectday0_dim1200_dim2500_step2000_sim1.mp4.\n",
      "Moviepy - Writing video ./movie/movie_negbinomial_virusprod2_virusdiff1_ifnprod6_ifnprob10_virusreduction50_virusdim1_virusnumb1_ifninjectprob0_injectday0_dim1200_dim2500_step2000_sim1.mp4\n",
      "\n"
     ]
    },
    {
     "name": "stderr",
     "output_type": "stream",
     "text": [
      "                                                                 \r"
     ]
    },
    {
     "name": "stdout",
     "output_type": "stream",
     "text": [
      "Moviepy - Done !\n",
      "Moviepy - video ready ./movie/movie_negbinomial_virusprod2_virusdiff1_ifnprod6_ifnprob10_virusreduction50_virusdim1_virusnumb1_ifninjectprob0_injectday0_dim1200_dim2500_step2000_sim1.mp4\n"
     ]
    },
    {
     "name": "stderr",
     "output_type": "stream",
     "text": [
      "t:   1%|          | 16/2000 [00:00<00:12, 157.84it/s, now=None]"
     ]
    },
    {
     "name": "stdout",
     "output_type": "stream",
     "text": [
      "Moviepy - Building video ./movie/movie_exposed_negbinomial_virusprod2_virusdiff1_ifnprod6_ifnprob10_virusreduction50_virusdim1_virusnumb1_ifninjectprob0_injectday0_dim1200_dim2500_step2000_sim1.mp4.\n",
      "Moviepy - Writing video ./movie/movie_exposed_negbinomial_virusprod2_virusdiff1_ifnprod6_ifnprob10_virusreduction50_virusdim1_virusnumb1_ifninjectprob0_injectday0_dim1200_dim2500_step2000_sim1.mp4\n",
      "\n"
     ]
    },
    {
     "name": "stderr",
     "output_type": "stream",
     "text": [
      "                                                                 \r"
     ]
    },
    {
     "name": "stdout",
     "output_type": "stream",
     "text": [
      "Moviepy - Done !\n",
      "Moviepy - video ready ./movie/movie_exposed_negbinomial_virusprod2_virusdiff1_ifnprod6_ifnprob10_virusreduction50_virusdim1_virusnumb1_ifninjectprob0_injectday0_dim1200_dim2500_step2000_sim1.mp4\n"
     ]
    },
    {
     "name": "stderr",
     "output_type": "stream",
     "text": [
      "t:   1%|          | 22/2000 [00:00<00:09, 219.45it/s, now=None]"
     ]
    },
    {
     "name": "stdout",
     "output_type": "stream",
     "text": [
      "Moviepy - Building video ./movie/movie_ifncell_negbinomial_virusprod2_virusdiff1_ifnprod6_ifnprob10_virusreduction50_virusdim1_virusnumb1_ifninjectprob0_injectday0_dim1200_dim2500_step2000_sim1.mp4.\n",
      "Moviepy - Writing video ./movie/movie_ifncell_negbinomial_virusprod2_virusdiff1_ifnprod6_ifnprob10_virusreduction50_virusdim1_virusnumb1_ifninjectprob0_injectday0_dim1200_dim2500_step2000_sim1.mp4\n",
      "\n"
     ]
    },
    {
     "name": "stderr",
     "output_type": "stream",
     "text": [
      "                                                                 \r"
     ]
    },
    {
     "name": "stdout",
     "output_type": "stream",
     "text": [
      "Moviepy - Done !\n",
      "Moviepy - video ready ./movie/movie_ifncell_negbinomial_virusprod2_virusdiff1_ifnprod6_ifnprob10_virusreduction50_virusdim1_virusnumb1_ifninjectprob0_injectday0_dim1200_dim2500_step2000_sim1.mp4\n"
     ]
    },
    {
     "name": "stderr",
     "output_type": "stream",
     "text": [
      "t:   1%|▏         | 28/2000 [00:00<00:07, 274.85it/s, now=None]"
     ]
    },
    {
     "name": "stdout",
     "output_type": "stream",
     "text": [
      "Moviepy - Building video ./movie/movie_viruscell_negbinomial_virusprod2_virusdiff1_ifnprod6_ifnprob10_virusreduction50_virusdim1_virusnumb1_ifninjectprob0_injectday0_dim1200_dim2500_step2000_sim1.mp4.\n",
      "Moviepy - Writing video ./movie/movie_viruscell_negbinomial_virusprod2_virusdiff1_ifnprod6_ifnprob10_virusreduction50_virusdim1_virusnumb1_ifninjectprob0_injectday0_dim1200_dim2500_step2000_sim1.mp4\n",
      "\n"
     ]
    },
    {
     "name": "stderr",
     "output_type": "stream",
     "text": [
      "                                                                 \r"
     ]
    },
    {
     "name": "stdout",
     "output_type": "stream",
     "text": [
      "Moviepy - Done !\n",
      "Moviepy - video ready ./movie/movie_viruscell_negbinomial_virusprod2_virusdiff1_ifnprod6_ifnprob10_virusreduction50_virusdim1_virusnumb1_ifninjectprob0_injectday0_dim1200_dim2500_step2000_sim1.mp4\n",
      "./movie/movie_negbinomial_virusprod2_virusdiff1_ifnprod10_ifnprob10_virusreduction50_virusdim1_virusnumb1_ifninjectprob0_injectday0_dim1200_dim2500_step2000_sim1.gif\n"
     ]
    },
    {
     "name": "stderr",
     "output_type": "stream",
     "text": [
      "t:   1%|          | 21/2000 [00:00<00:09, 209.39it/s, now=None]"
     ]
    },
    {
     "name": "stdout",
     "output_type": "stream",
     "text": [
      "Moviepy - Building video ./movie/movie_negbinomial_virusprod2_virusdiff1_ifnprod10_ifnprob10_virusreduction50_virusdim1_virusnumb1_ifninjectprob0_injectday0_dim1200_dim2500_step2000_sim1.mp4.\n",
      "Moviepy - Writing video ./movie/movie_negbinomial_virusprod2_virusdiff1_ifnprod10_ifnprob10_virusreduction50_virusdim1_virusnumb1_ifninjectprob0_injectday0_dim1200_dim2500_step2000_sim1.mp4\n",
      "\n"
     ]
    },
    {
     "name": "stderr",
     "output_type": "stream",
     "text": [
      "                                                                 \r"
     ]
    },
    {
     "name": "stdout",
     "output_type": "stream",
     "text": [
      "Moviepy - Done !\n",
      "Moviepy - video ready ./movie/movie_negbinomial_virusprod2_virusdiff1_ifnprod10_ifnprob10_virusreduction50_virusdim1_virusnumb1_ifninjectprob0_injectday0_dim1200_dim2500_step2000_sim1.mp4\n"
     ]
    },
    {
     "name": "stderr",
     "output_type": "stream",
     "text": [
      "t:   1%|▏         | 27/2000 [00:00<00:07, 266.14it/s, now=None]"
     ]
    },
    {
     "name": "stdout",
     "output_type": "stream",
     "text": [
      "Moviepy - Building video ./movie/movie_exposed_negbinomial_virusprod2_virusdiff1_ifnprod10_ifnprob10_virusreduction50_virusdim1_virusnumb1_ifninjectprob0_injectday0_dim1200_dim2500_step2000_sim1.mp4.\n",
      "Moviepy - Writing video ./movie/movie_exposed_negbinomial_virusprod2_virusdiff1_ifnprod10_ifnprob10_virusreduction50_virusdim1_virusnumb1_ifninjectprob0_injectday0_dim1200_dim2500_step2000_sim1.mp4\n",
      "\n"
     ]
    },
    {
     "name": "stderr",
     "output_type": "stream",
     "text": [
      "                                                                 \r"
     ]
    },
    {
     "name": "stdout",
     "output_type": "stream",
     "text": [
      "Moviepy - Done !\n",
      "Moviepy - video ready ./movie/movie_exposed_negbinomial_virusprod2_virusdiff1_ifnprod10_ifnprob10_virusreduction50_virusdim1_virusnumb1_ifninjectprob0_injectday0_dim1200_dim2500_step2000_sim1.mp4\n"
     ]
    },
    {
     "name": "stderr",
     "output_type": "stream",
     "text": [
      "t:   1%|▏         | 28/2000 [00:00<00:07, 275.62it/s, now=None]"
     ]
    },
    {
     "name": "stdout",
     "output_type": "stream",
     "text": [
      "Moviepy - Building video ./movie/movie_ifncell_negbinomial_virusprod2_virusdiff1_ifnprod10_ifnprob10_virusreduction50_virusdim1_virusnumb1_ifninjectprob0_injectday0_dim1200_dim2500_step2000_sim1.mp4.\n",
      "Moviepy - Writing video ./movie/movie_ifncell_negbinomial_virusprod2_virusdiff1_ifnprod10_ifnprob10_virusreduction50_virusdim1_virusnumb1_ifninjectprob0_injectday0_dim1200_dim2500_step2000_sim1.mp4\n",
      "\n"
     ]
    },
    {
     "name": "stderr",
     "output_type": "stream",
     "text": [
      "                                                                 \r"
     ]
    },
    {
     "name": "stdout",
     "output_type": "stream",
     "text": [
      "Moviepy - Done !\n",
      "Moviepy - video ready ./movie/movie_ifncell_negbinomial_virusprod2_virusdiff1_ifnprod10_ifnprob10_virusreduction50_virusdim1_virusnumb1_ifninjectprob0_injectday0_dim1200_dim2500_step2000_sim1.mp4\n"
     ]
    },
    {
     "name": "stderr",
     "output_type": "stream",
     "text": [
      "t:   0%|          | 3/2000 [00:00<01:10, 28.21it/s, now=None]"
     ]
    },
    {
     "name": "stdout",
     "output_type": "stream",
     "text": [
      "Moviepy - Building video ./movie/movie_viruscell_negbinomial_virusprod2_virusdiff1_ifnprod10_ifnprob10_virusreduction50_virusdim1_virusnumb1_ifninjectprob0_injectday0_dim1200_dim2500_step2000_sim1.mp4.\n",
      "Moviepy - Writing video ./movie/movie_viruscell_negbinomial_virusprod2_virusdiff1_ifnprod10_ifnprob10_virusreduction50_virusdim1_virusnumb1_ifninjectprob0_injectday0_dim1200_dim2500_step2000_sim1.mp4\n",
      "\n"
     ]
    },
    {
     "name": "stderr",
     "output_type": "stream",
     "text": [
      "                                                                 "
     ]
    },
    {
     "name": "stdout",
     "output_type": "stream",
     "text": [
      "Moviepy - Done !\n",
      "Moviepy - video ready ./movie/movie_viruscell_negbinomial_virusprod2_virusdiff1_ifnprod10_ifnprob10_virusreduction50_virusdim1_virusnumb1_ifninjectprob0_injectday0_dim1200_dim2500_step2000_sim1.mp4\n"
     ]
    },
    {
     "name": "stderr",
     "output_type": "stream",
     "text": [
      "\r"
     ]
    }
   ],
   "source": [
    "import moviepy.editor as mp\n",
    "import os\n",
    "initial_virus = [[1,1,1],[20,20,10],[20,20,100],[200,500,10],[200,500,100]]\n",
    "isstochastic=[[\"stochastic\",1,1000],[\"homogenous\",0,280]]\n",
    "TotalRun = 1\n",
    "IsImage=1\n",
    "ifn_prods = [0,1,3,6]\n",
    "\n",
    "virus_prods=2\n",
    "virus_diff=1\n",
    "ifn_diff=5\n",
    "ifn_prob=0.1\n",
    "virus_reduction_factor=0.5\n",
    "irun=0\n",
    "\n",
    "for name,Is,totalstep in isstochastic:\n",
    "        for s1,s2,vnumb in initial_virus:\n",
    "            for iifn_prods in ifn_prods:\n",
    "                filename = \"virusprods{}_virusdiff{}_ifnprods{}_ifndiff{}_ifnprob{}_virusreduct{}_isstochastic{}_initialvirus{}_{}_{}_run{}\".format(virus_prods,virus_diff,iifn_prods,ifn_diff,ifn_prob,virus_reduction_factor,Is,s1,s2,vnumb,irun)\n",
    "                clip = mp.VideoFileClip(\"./movie_py/infection_{}.gif\".format(filename))\n",
    "                clip.write_videofile(\"./movie_py/infection_{}.mp4\".format(filename))\n",
    "                clip = mp.VideoFileClip(\"./movie_py/virus_{}.gif\".format(filename))\n",
    "                clip.write_videofile(\"./movie_py/virus_{}.mp4\".format(filename))\n",
    "                clip = mp.VideoFileClip(\"./movie_py/ifn_{}.gif\".format(filename))\n",
    "                clip.write_videofile(\"./movie_py/ifn_{}.mp4\".format(filename))"
   ]
  },
  {
   "cell_type": "code",
   "execution_count": 2,
   "metadata": {},
   "outputs": [
    {
     "name": "stdout",
     "output_type": "stream",
     "text": [
      "./movie/movie_negbinomial_virusprod2_virusdiff1_ifnprod0_ifnprob10_virusreduction50_virusdim1_virusnumb1_ifninjectprob0_injectday0_dim1200_dim2500_step2000_sim1.csv\n",
      "./movie/movie_negbinomial_virusprod2_virusdiff1_ifnprod1_ifnprob10_virusreduction50_virusdim1_virusnumb1_ifninjectprob0_injectday0_dim1200_dim2500_step2000_sim1.csv\n",
      "./movie/movie_negbinomial_virusprod2_virusdiff1_ifnprod3_ifnprob10_virusreduction50_virusdim1_virusnumb1_ifninjectprob0_injectday0_dim1200_dim2500_step2000_sim1.csv\n",
      "./movie/movie_negbinomial_virusprod2_virusdiff1_ifnprod6_ifnprob10_virusreduction50_virusdim1_virusnumb1_ifninjectprob0_injectday0_dim1200_dim2500_step2000_sim1.csv\n",
      "./movie/movie_negbinomial_virusprod2_virusdiff1_ifnprod10_ifnprob10_virusreduction50_virusdim1_virusnumb1_ifninjectprob0_injectday0_dim1200_dim2500_step2000_sim1.csv\n"
     ]
    },
    {
     "data": {
      "image/png": "[encoded data removed]",
      "text/plain": [
       "<Figure size 432x288 with 1 Axes>"
      ]
     },
     "metadata": {
      "needs_background": "light"
     },
     "output_type": "display_data"
    },
    {
     "data": {
      "image/png": "[encoded data removed]",
      "text/plain": [
       "<Figure size 432x288 with 1 Axes>"
      ]
     },
     "metadata": {
      "needs_background": "light"
     },
     "output_type": "display_data"
    },
    {
     "data": {
      "image/png": "[encoded data removed]",
      "text/plain": [
       "<Figure size 432x288 with 1 Axes>"
      ]
     },
     "metadata": {
      "needs_background": "light"
     },
     "output_type": "display_data"
    },
    {
     "data": {
      "image/png": "[encoded data removed]",
      "text/plain": [
       "<Figure size 432x288 with 1 Axes>"
      ]
     },
     "metadata": {
      "needs_background": "light"
     },
     "output_type": "display_data"
    },
    {
     "data": {
      "image/png": "[encoded data removed]",
      "text/plain": [
       "<Figure size 432x288 with 1 Axes>"
      ]
     },
     "metadata": {
      "needs_background": "light"
     },
     "output_type": "display_data"
    }
   ],
   "source": [
    "import matplotlib.pyplot as plt\n",
    "import pandas as pd\n",
    "#distribution=['delta','poisson','geometric','negbinomial']\n",
    "distribution=['negbinomial']\n",
    "virus_prods=['2']\n",
    "virus_diff=['1']\n",
    "ifn_prods=['0','1','3','6','10']\n",
    "ifn_prob=['10']\n",
    "virus_reduction = ['50']\n",
    "ifn_inject_prob = [0]\n",
    "ifn_inject_day = [0]\n",
    "virus_dim = [1]\n",
    "virus_numb = [1]\n",
    "grid_size=['200','500']\n",
    "step_size = 2000\n",
    "irun=1\n",
    "for idistribution in distribution:\n",
    "    for ivirus_prods in virus_prods:\n",
    "        for ivirus_diff in virus_diff:\n",
    "            for iifn_prods in ifn_prods:\n",
    "                for iifn_prob in ifn_prob:\n",
    "                    for ivirus_reduction in virus_reduction:\n",
    "                        for ivirus_dim in virus_dim:\n",
    "                            for ivirus_numb in virus_numb:\n",
    "                                for iifn_inject_prob in ifn_inject_prob:\n",
    "                                    for iifn_inject_day in ifn_inject_day:\n",
    "                                        filename = \"{}_virusprod{}_virusdiff{}_ifnprod{}_ifnprob{}_virusreduction{}_virusdim{}_virusnumb{}_ifninjectprob{}_injectday{}_dim1{}_dim2{}_step{}_sim{}\".format(idistribution,ivirus_prods,ivirus_diff,iifn_prods,iifn_prob,ivirus_reduction,ivirus_dim,ivirus_numb,iifn_inject_prob,iifn_inject_day,grid_size[0],grid_size[1],step_size,irun)\n",
    "                                         \n",
    "                                        print(\"./movie/movie_{}.csv\".format(filename))\n",
    "                                        df = pd.read_csv('./movie/movie_{}.csv'.format(filename),names=[\"step\", \"sum\", \"exposed\", \"infected\",\"protected\",\"dead\",\"ifncell\",\"ifncontact\",\"viruscell\",\"viruscontact\",\"virusreduction\"])  \n",
    "                                        df[\"sum2\"] = df[\"infected\"]+df[\"protected\"]\n",
    "                                        plt.figure(figsize=(6, 4))\n",
    "                                        #plt.plot(df[\"step\"]/48,df[\"sum2\"], label='infected+protected')\n",
    "                                        plt.plot(df[\"step\"]/48,df[\"infected\"], label='infected')\n",
    "                                        plt.plot(df[\"step\"]/48,df[\"protected\"], label='protected')\n",
    "                                        plt.plot(df[\"step\"]/48,df[\"dead\"], label='dead')\n",
    "                                        #plt.plot(df[\"step\"]/48,df[\"ifncell\"]*100, label='ifncell*100')\n",
    "                                        #plt.plot(df[\"step\"]/48,df[\"ifncontact\"], label='ifncontact')\n",
    "                                        #plt.plot(df[\"step\"]/48,df[\"viruscell\"], label='viruscell')\n",
    "                                        #plt.plot(df[\"step\"]/48,df[\"viruscontact\"], label='viruscontact')                \n",
    "                                        #plt.plot(df[\"step\"]/48,df[\"exposed\"]/10, label='exposed/10')\n",
    "                                        plt.ylabel(\"cell number\")\n",
    "                                        plt.xlabel(\"days\")    \n",
    "                                        plt.subplots_adjust(left=0.17, right=0.97, top=0.9, bottom=0.15)\n",
    "                                        plt.title('ifn_prod={},index={}'.format(iifn_prods,irun))\n",
    "                                        #plt.yscale('log')                \n",
    "                                        plt.legend()\n",
    "                                        plt.savefig(\"./movie/movie_{}.pdf\".format(filename))\n"
   ]
  },
  {
   "cell_type": "code",
   "execution_count": null,
   "metadata": {},
   "outputs": [],
   "source": []
  },
  {
   "cell_type": "code",
   "execution_count": null,
   "metadata": {},
   "outputs": [],
   "source": []
  },
  {
   "cell_type": "code",
   "execution_count": null,
   "metadata": {},
   "outputs": [],
   "source": []
  }
 ],
 "metadata": {
  "kernelspec": {
   "display_name": "Python 3",
   "language": "python",
   "name": "python3"
  },
  "language_info": {
   "codemirror_mode": {
    "name": "ipython",
    "version": 3
   },
   "file_extension": ".py",
   "mimetype": "text/x-python",
   "name": "python",
   "nbconvert_exporter": "python",
   "pygments_lexer": "ipython3",
   "version": "3.7.0"
  }
 },
 "nbformat": 4,
 "nbformat_minor": 4
}
